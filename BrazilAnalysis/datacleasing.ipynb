{
 "cells": [
  {
   "cell_type": "code",
   "execution_count": 2,
   "metadata": {},
   "outputs": [],
   "source": [
    "import pandas as pd"
   ]
  },
  {
   "cell_type": "markdown",
   "metadata": {},
   "source": [
    "# Minimum Wage"
   ]
  },
  {
   "cell_type": "code",
   "execution_count": null,
   "metadata": {},
   "outputs": [],
   "source": [
    "from tabula import read_pdf\n",
    "# I tried to load directly from the PDF I have found, but I got some bugs, so I made a CSV by my own based on the PDF\n",
    "df = read_pdf(\"data/Min_Sal/Tabela-Valores-SalarioMinimo-1940a2022_orig.pdf\")\n",
    "df"
   ]
  },
  {
   "cell_type": "code",
   "execution_count": 17,
   "metadata": {},
   "outputs": [
    {
     "data": {
      "text/html": [
       "<div>\n",
       "<style scoped>\n",
       "    .dataframe tbody tr th:only-of-type {\n",
       "        vertical-align: middle;\n",
       "    }\n",
       "\n",
       "    .dataframe tbody tr th {\n",
       "        vertical-align: top;\n",
       "    }\n",
       "\n",
       "    .dataframe thead th {\n",
       "        text-align: right;\n",
       "    }\n",
       "</style>\n",
       "<table border=\"1\" class=\"dataframe\">\n",
       "  <thead>\n",
       "    <tr style=\"text-align: right;\">\n",
       "      <th></th>\n",
       "      <th>data</th>\n",
       "      <th>currency_code</th>\n",
       "      <th>value</th>\n",
       "    </tr>\n",
       "  </thead>\n",
       "  <tbody>\n",
       "    <tr>\n",
       "      <th>0</th>\n",
       "      <td>1940-07</td>\n",
       "      <td>Rs</td>\n",
       "      <td>240$000</td>\n",
       "    </tr>\n",
       "    <tr>\n",
       "      <th>1</th>\n",
       "      <td>1943-01</td>\n",
       "      <td>Cr$</td>\n",
       "      <td>300.00</td>\n",
       "    </tr>\n",
       "    <tr>\n",
       "      <th>2</th>\n",
       "      <td>1943-12</td>\n",
       "      <td>Cr$</td>\n",
       "      <td>380.00</td>\n",
       "    </tr>\n",
       "    <tr>\n",
       "      <th>3</th>\n",
       "      <td>1952-01</td>\n",
       "      <td>Cr$</td>\n",
       "      <td>1200.00</td>\n",
       "    </tr>\n",
       "    <tr>\n",
       "      <th>4</th>\n",
       "      <td>1954-07</td>\n",
       "      <td>Cr$</td>\n",
       "      <td>2400.00</td>\n",
       "    </tr>\n",
       "    <tr>\n",
       "      <th>...</th>\n",
       "      <td>...</td>\n",
       "      <td>...</td>\n",
       "      <td>...</td>\n",
       "    </tr>\n",
       "    <tr>\n",
       "      <th>128</th>\n",
       "      <td>2019-01</td>\n",
       "      <td>R$</td>\n",
       "      <td>998.00</td>\n",
       "    </tr>\n",
       "    <tr>\n",
       "      <th>129</th>\n",
       "      <td>2020-01</td>\n",
       "      <td>R$</td>\n",
       "      <td>1039.00</td>\n",
       "    </tr>\n",
       "    <tr>\n",
       "      <th>130</th>\n",
       "      <td>2020-02</td>\n",
       "      <td>R$</td>\n",
       "      <td>1045.00</td>\n",
       "    </tr>\n",
       "    <tr>\n",
       "      <th>131</th>\n",
       "      <td>2021-01</td>\n",
       "      <td>R$</td>\n",
       "      <td>1100.00</td>\n",
       "    </tr>\n",
       "    <tr>\n",
       "      <th>132</th>\n",
       "      <td>2022-01</td>\n",
       "      <td>R$</td>\n",
       "      <td>1212.00</td>\n",
       "    </tr>\n",
       "  </tbody>\n",
       "</table>\n",
       "<p>133 rows × 3 columns</p>\n",
       "</div>"
      ],
      "text/plain": [
       "        data currency_code    value\n",
       "0    1940-07            Rs  240$000\n",
       "1    1943-01           Cr$   300.00\n",
       "2    1943-12           Cr$   380.00\n",
       "3    1952-01           Cr$  1200.00\n",
       "4    1954-07           Cr$  2400.00\n",
       "..       ...           ...      ...\n",
       "128  2019-01            R$   998.00\n",
       "129  2020-01            R$  1039.00\n",
       "130  2020-02            R$  1045.00\n",
       "131  2021-01            R$  1100.00\n",
       "132  2022-01            R$  1212.00\n",
       "\n",
       "[133 rows x 3 columns]"
      ]
     },
     "execution_count": 17,
     "metadata": {},
     "output_type": "execute_result"
    }
   ],
   "source": [
    "df = pd.read_csv(\"data/Min_Sal/min_sal.csv\")\n",
    "# Here I just transformed an data like \"Julho 1940\" (July 1940) into 1940-07\n",
    "months = [\"Janeiro\", \"Fevereiro\", \"Março\", \"Abril\", \"Maio\", \"Junho\", \"Julho\", \"Agosto\", \"Setembro\", \"Outubro\", \"Novembro\", \"Dezembro\"]\n",
    "numbers = [f\"{x:02}\" for x in range(1,13)]\n",
    "data_dict = dict(zip(months,numbers))\n",
    "\n",
    "for mes, num in data_dict.items():\n",
    "    df[\"data\"] = df[\"data\"].str.replace(mes, num)\n",
    "\n",
    "df['data'] = pd.to_datetime(df['data'], format='%m %Y')\n",
    "df[\"data\"] = df[\"data\"].dt.strftime(\"%Y-%m\")\n",
    "df"
   ]
  },
  {
   "cell_type": "markdown",
   "metadata": {},
   "source": [
    "# GDP"
   ]
  },
  {
   "cell_type": "code",
   "execution_count": null,
   "metadata": {},
   "outputs": [],
   "source": []
  }
 ],
 "metadata": {
  "kernelspec": {
   "display_name": "github",
   "language": "python",
   "name": "python3"
  },
  "language_info": {
   "codemirror_mode": {
    "name": "ipython",
    "version": 3
   },
   "file_extension": ".py",
   "mimetype": "text/x-python",
   "name": "python",
   "nbconvert_exporter": "python",
   "pygments_lexer": "ipython3",
   "version": "3.12.5"
  }
 },
 "nbformat": 4,
 "nbformat_minor": 2
}
