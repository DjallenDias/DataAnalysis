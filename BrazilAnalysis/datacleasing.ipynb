{
 "cells": [
  {
   "cell_type": "code",
   "execution_count": 3,
   "metadata": {},
   "outputs": [],
   "source": [
    "import pandas as pd"
   ]
  },
  {
   "cell_type": "markdown",
   "metadata": {},
   "source": [
    "# Minimum Wage"
   ]
  },
  {
   "cell_type": "code",
   "execution_count": 32,
   "metadata": {},
   "outputs": [
    {
     "data": {
      "text/plain": [
       "[        Maio 1974     Decreto no 73995, de 1974      Cr$ 376,80\n",
       " 0   Dezembro 1974          Lei no 6147, de 1974      Cr$ 415,20\n",
       " 1       Maio 1975     Decreto no 75679, de 1975      Cr$ 532,80\n",
       " 2       Maio 1976     Decreto no 77510, de 1976      Cr$ 768,00\n",
       " 3       Maio 1977     Decreto no 79610, de 1977    Cr$ 1.106,40\n",
       " 4       Maio 1978     Decreto no 81615, de 1978    Cr$ 1.560,00\n",
       " 5       Maio 1979     Decreto no 84135, de 1979    Cr$ 2.268,00\n",
       " 6   Novembro 1979     Decreto no 84135, de 1979    Cr$ 2.932,80\n",
       " 7       Maio 1980     Decreto no 84674, de 1980    Cr$ 4.149,60\n",
       " 8   Novembro 1980     Decreto no 85310, de 1980    Cr$ 5.788,80\n",
       " 9       Maio 1981     Decreto no 85950, de 1981    Cr$ 8.464,80\n",
       " 10  Novembro 1981     Decreto no 86514, de 1981   Cr$ 11.928,00\n",
       " 11      Maio 1982     Decreto no 87139, de 1982   Cr$ 16.608,00\n",
       " 12  Novembro 1982     Decreto no 87743, de 1982   Cr$ 23.568,00\n",
       " 13      Maio 1983     Decreto no 88267, de 1983   Cr$ 34.776,00\n",
       " 14  Novembro 1983     Decreto no 88930, de 1983   Cr$ 57.120,00\n",
       " 15      Maio 1984     Decreto no 89589, de 1984   Cr$ 97.176,00\n",
       " 16  Novembro 1984     Decreto no 90301, de 1984  Cr$ 166.560,00\n",
       " 17      Maio 1985     Decreto no 91213, de 1985  Cr$ 333.120,00\n",
       " 18  Novembro 1985     Decreto no 91861, de 1985  Cr$ 600.000,00\n",
       " 19     Março 1986  Decreto-Lei no 2284, de 1986      Cz$ 804,00\n",
       " 20   Janeiro 1987    Portaria  no 3019, de 1987      Cz$ 964,80\n",
       " 21     Março 1987     Decreto no 94062, de 1987    Cz$ 1.368,00\n",
       " 22      Maio 1987    Portaria  no 3149, de 1987    Cz$ 1.641,60\n",
       " 23     Junho 1987    Portaria  no 3175, de 1987    Cz$ 1.969,92\n",
       " 24    Agosto 1987  Decreto-Lei no 2351, de 1987    Cz$ 1.970,00\n",
       " 25  Setembro 1987     Decreto no 94815, de 1987    Cz$ 2.400,00\n",
       " 26   Outubro 1987     Decreto no 94989, de 1987    Cz$ 2.640,00\n",
       " 27  Novembro 1987     Decreto no 95092, de 1987    Cz$ 3.000,00\n",
       " 28  Dezembro 1987     Decreto no 95307, de 1987    Cz$ 3.600,00\n",
       " 29   Janeiro 1988     Decreto no 95479, de 1987    Cz$ 4.500,00]"
      ]
     },
     "execution_count": 32,
     "metadata": {},
     "output_type": "execute_result"
    }
   ],
   "source": [
    "from tabula.io import read_pdf\n",
    "# I tried to load directly from the PDF I have found, but I got some bugs, so I made a CSV by my own based on the PDF\n",
    "# I can't read the pages after the second one\n",
    "# If i use pages=3 or more, it gives me an empy list\n",
    "df = read_pdf(\"data/Min_Sal/Tabela-Valores-SalarioMinimo-1940a2022_orig.pdf\", pages=2)\n",
    "df"
   ]
  },
  {
   "cell_type": "code",
   "execution_count": 17,
   "metadata": {},
   "outputs": [
    {
     "data": {
      "text/html": [
       "<div>\n",
       "<style scoped>\n",
       "    .dataframe tbody tr th:only-of-type {\n",
       "        vertical-align: middle;\n",
       "    }\n",
       "\n",
       "    .dataframe tbody tr th {\n",
       "        vertical-align: top;\n",
       "    }\n",
       "\n",
       "    .dataframe thead th {\n",
       "        text-align: right;\n",
       "    }\n",
       "</style>\n",
       "<table border=\"1\" class=\"dataframe\">\n",
       "  <thead>\n",
       "    <tr style=\"text-align: right;\">\n",
       "      <th></th>\n",
       "      <th>data</th>\n",
       "      <th>currency_code</th>\n",
       "      <th>value</th>\n",
       "    </tr>\n",
       "  </thead>\n",
       "  <tbody>\n",
       "    <tr>\n",
       "      <th>0</th>\n",
       "      <td>1940-07</td>\n",
       "      <td>Rs</td>\n",
       "      <td>240$000</td>\n",
       "    </tr>\n",
       "    <tr>\n",
       "      <th>1</th>\n",
       "      <td>1943-01</td>\n",
       "      <td>Cr$</td>\n",
       "      <td>300.00</td>\n",
       "    </tr>\n",
       "    <tr>\n",
       "      <th>2</th>\n",
       "      <td>1943-12</td>\n",
       "      <td>Cr$</td>\n",
       "      <td>380.00</td>\n",
       "    </tr>\n",
       "    <tr>\n",
       "      <th>3</th>\n",
       "      <td>1952-01</td>\n",
       "      <td>Cr$</td>\n",
       "      <td>1200.00</td>\n",
       "    </tr>\n",
       "    <tr>\n",
       "      <th>4</th>\n",
       "      <td>1954-07</td>\n",
       "      <td>Cr$</td>\n",
       "      <td>2400.00</td>\n",
       "    </tr>\n",
       "    <tr>\n",
       "      <th>...</th>\n",
       "      <td>...</td>\n",
       "      <td>...</td>\n",
       "      <td>...</td>\n",
       "    </tr>\n",
       "    <tr>\n",
       "      <th>128</th>\n",
       "      <td>2019-01</td>\n",
       "      <td>R$</td>\n",
       "      <td>998.00</td>\n",
       "    </tr>\n",
       "    <tr>\n",
       "      <th>129</th>\n",
       "      <td>2020-01</td>\n",
       "      <td>R$</td>\n",
       "      <td>1039.00</td>\n",
       "    </tr>\n",
       "    <tr>\n",
       "      <th>130</th>\n",
       "      <td>2020-02</td>\n",
       "      <td>R$</td>\n",
       "      <td>1045.00</td>\n",
       "    </tr>\n",
       "    <tr>\n",
       "      <th>131</th>\n",
       "      <td>2021-01</td>\n",
       "      <td>R$</td>\n",
       "      <td>1100.00</td>\n",
       "    </tr>\n",
       "    <tr>\n",
       "      <th>132</th>\n",
       "      <td>2022-01</td>\n",
       "      <td>R$</td>\n",
       "      <td>1212.00</td>\n",
       "    </tr>\n",
       "  </tbody>\n",
       "</table>\n",
       "<p>133 rows × 3 columns</p>\n",
       "</div>"
      ],
      "text/plain": [
       "        data currency_code    value\n",
       "0    1940-07            Rs  240$000\n",
       "1    1943-01           Cr$   300.00\n",
       "2    1943-12           Cr$   380.00\n",
       "3    1952-01           Cr$  1200.00\n",
       "4    1954-07           Cr$  2400.00\n",
       "..       ...           ...      ...\n",
       "128  2019-01            R$   998.00\n",
       "129  2020-01            R$  1039.00\n",
       "130  2020-02            R$  1045.00\n",
       "131  2021-01            R$  1100.00\n",
       "132  2022-01            R$  1212.00\n",
       "\n",
       "[133 rows x 3 columns]"
      ]
     },
     "execution_count": 17,
     "metadata": {},
     "output_type": "execute_result"
    }
   ],
   "source": [
    "df = pd.read_csv(\"data/Min_Sal/min_sal.csv\")\n",
    "# Here I just transformed an data like \"Julho 1940\" (July 1940) into 1940-07\n",
    "months = [\"Janeiro\", \"Fevereiro\", \"Março\", \"Abril\", \"Maio\", \"Junho\", \"Julho\", \"Agosto\", \"Setembro\", \"Outubro\", \"Novembro\", \"Dezembro\"]\n",
    "numbers = [f\"{x:02}\" for x in range(1,13)]\n",
    "data_dict = dict(zip(months,numbers))\n",
    "\n",
    "for mes, num in data_dict.items():\n",
    "    df[\"data\"] = df[\"data\"].str.replace(mes, num)\n",
    "\n",
    "df['data'] = pd.to_datetime(df['data'], format='%m %Y')\n",
    "df[\"data\"] = df[\"data\"].dt.strftime(\"%Y-%m\")\n",
    "df"
   ]
  },
  {
   "cell_type": "markdown",
   "metadata": {},
   "source": [
    "# GDP"
   ]
  },
  {
   "cell_type": "code",
   "execution_count": null,
   "metadata": {},
   "outputs": [],
   "source": []
  }
 ],
 "metadata": {
  "kernelspec": {
   "display_name": "github",
   "language": "python",
   "name": "python3"
  },
  "language_info": {
   "codemirror_mode": {
    "name": "ipython",
    "version": 3
   },
   "file_extension": ".py",
   "mimetype": "text/x-python",
   "name": "python",
   "nbconvert_exporter": "python",
   "pygments_lexer": "ipython3",
   "version": "3.12.5"
  }
 },
 "nbformat": 4,
 "nbformat_minor": 2
}
